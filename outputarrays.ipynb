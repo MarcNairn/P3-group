{
 "cells": [
  {
   "cell_type": "code",
   "execution_count": 1,
   "metadata": {},
   "outputs": [],
   "source": [
    "import matplotlib.pyplot as plt\n",
    "import matplotlib.image as mpimg\n",
    "import numpy as np\n",
    "import os\n",
    "import subprocess\n",
    "import sys"
   ]
  },
  {
   "cell_type": "code",
   "execution_count": 2,
   "metadata": {},
   "outputs": [],
   "source": [
    "### adaptation of previous function for mask array ###\n",
    "#with use of True/False mask array, can instruct that any points included in a boundary are excluded from finite difference\n",
    "#this way, the values only need to be set initially\n",
    "#and maxcol list can be ignored beyond initialisation\n",
    "# - so, in the function, after determining the type (maxcol) of a point, set whether it should be edited or not\n",
    "# --- then pass the mask array instead of maxcol\n",
    "# --- maxcol need only be a variable now\n",
    "\n",
    "\n",
    "def readimage(filename, Vmax=1000):\n",
    "    \n",
    "    ### Reading image from file ###\n",
    "    \n",
    "    #use try/except to handle any problems with the file\n",
    "    #get the image into an array, then get its dimensions to set up the potential and mask arrays\n",
    "    #image.shape returns the 3D dimensions, but we only want 2D so exclude the last item\n",
    "    if filename.endswith((\"png\",\"jpg\",\"bmp\",\"jpeg\")):\n",
    "        image = mpimg.imread(filename)\n",
    "        height, width = image.shape[:-1]\n",
    "    else:\n",
    "        sys.exit(\"Invalid file given. Failed to read any data.\")\n",
    "        \n",
    "    #define the arrays we need, matching the image dimensions\n",
    "    #and initially at zero everywhere\n",
    "    #also define mask as being an array of zeros, as this is how False is interpreted\n",
    "    potential = np.zeros((height, width))\n",
    "    mask = np.zeros((height, width))\n",
    "    \n",
    "    \n",
    "    #Now go through each pixel of the image and determine the boundaries\n",
    "    for i in range(height):\n",
    "        for j in range(width):\n",
    "            mxindex = [col for col in range(3) if image[i][j][col] == max(image[i][j][:3])]\n",
    "\n",
    "            if len(mxindex) != 1:\n",
    "                maxcol = 3\n",
    "            else:\n",
    "                maxcol = mxindex[0]\n",
    "            \n",
    "            if maxcol == 3:\n",
    "                potential[i][j] = 0\n",
    "                mask[i][j] = True\n",
    "            elif maxcol == 2:\n",
    "                potential[i][j] = 0\n",
    "            elif maxcol == 1:\n",
    "                potential[i][j] = - Vmax*image[i][j][maxcol]\n",
    "            elif maxcol == 0:\n",
    "                potential[i][j] = Vmax*image[i][j][maxcol]\n",
    "            \n",
    "            \n",
    "            if not filename.endswith(\"png\"):\n",
    "                potential[i][j] /= 255\n",
    "    \n",
    "    #Writing the arrays each to a text file\n",
    "    #using float format, else will default to using scientific notation (harder to read)\n",
    "    np.savetxt(\"potentialarray.txt\", potential, delimiter=\" \", fmt = \"%f\")\n",
    "    np.savetxt(\"maskarray.txt\", mask, delimiter=\" \", fmt = \"%f\")\n",
    "    \n",
    "    \n",
    "    return"
   ]
  },
  {
   "cell_type": "code",
   "execution_count": 5,
   "metadata": {},
   "outputs": [],
   "source": [
    "readimage(\"problemC.png\")"
   ]
  },
  {
   "cell_type": "markdown",
   "metadata": {},
   "source": [
    "8.4 s ± 56.5 ms per loop (mean ± std. dev. of 7 runs, 1 loop each)"
   ]
  },
  {
   "cell_type": "code",
   "execution_count": 28,
   "metadata": {},
   "outputs": [],
   "source": [
    "### Working on file output ###\n",
    "#won't work unless arrays returned at end of function (removed this part for general program)\n",
    "# Problem C\n",
    "# potential, mask = readimage(\"problemC.png\")\n",
    "# np.savetxt(\"potentialarrayC.txt\", potential, delimiter=\" \", fmt = \"%f\")\n",
    "# np.savetxt(\"maskarrayC.txt\", mask, delimiter=\" \", fmt = \"%f\")"
   ]
  },
  {
   "cell_type": "code",
   "execution_count": 29,
   "metadata": {},
   "outputs": [],
   "source": [
    "### Getting outputs for all the problems in the guide ###\n",
    "# Analytical 1 (Co-axial Cylinders):\n",
    "# potential, mask = readimage(\"example1.png\")\n",
    "# np.savetxt(\"potentialarrayEx1.txt\", potential, delimiter=\" \", fmt = \"%f\")\n",
    "# np.savetxt(\"maskarrayEx1.txt\", mask, delimiter=\" \", fmt = \"%f\")"
   ]
  },
  {
   "cell_type": "code",
   "execution_count": 30,
   "metadata": {},
   "outputs": [],
   "source": [
    "# Analytical 2 (Plates + Cylinder):\n",
    "# potential, mask = readimage(\"example2.png\")\n",
    "# np.savetxt(\"potentialarrayEx2.txt\", potential, delimiter=\" \", fmt = \"%f\")\n",
    "# np.savetxt(\"maskarrayEx2.txt\", mask, delimiter=\" \", fmt = \"%f\")"
   ]
  },
  {
   "cell_type": "code",
   "execution_count": 31,
   "metadata": {},
   "outputs": [],
   "source": [
    "# Problem A (Multi-Wire chamber):\n",
    "# potential, mask = readimage(\"problemA.png\")\n",
    "# np.savetxt(\"potentialarrayA.txt\", potential, delimiter=\" \", fmt = \"%f\")\n",
    "# np.savetxt(\"maskarrayA.txt\", mask, delimiter=\" \", fmt = \"%f\")"
   ]
  },
  {
   "cell_type": "code",
   "execution_count": 32,
   "metadata": {},
   "outputs": [],
   "source": [
    "# Problem B (Edge-Coupled Stripline):\n",
    "# potential, mask = readimage(\"problemB.png\")\n",
    "# np.savetxt(\"potentialarrayB.txt\", potential, delimiter=\" \", fmt = \"%f\")\n",
    "# np.savetxt(\"maskarrayB.txt\", mask, delimiter=\" \", fmt = \"%f\")"
   ]
  }
 ],
 "metadata": {
  "kernelspec": {
   "display_name": "Python3 + physics extras",
   "language": "python",
   "name": "python3-physics-extras"
  },
  "language_info": {
   "codemirror_mode": {
    "name": "ipython",
    "version": 3
   },
   "file_extension": ".py",
   "mimetype": "text/x-python",
   "name": "python",
   "nbconvert_exporter": "python",
   "pygments_lexer": "ipython3",
   "version": "3.4.10"
  }
 },
 "nbformat": 4,
 "nbformat_minor": 2
}
